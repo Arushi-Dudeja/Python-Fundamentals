{
 "cells": [
  {
   "cell_type": "markdown",
   "metadata": {
    "id": "ekIBcQNbGa2K"
   },
   "source": [
    "<span style=\"font-family: Arial; font-weight:bold;font-size:1.5em;\">Problem Statement\n",
    "\n",
    "Employee Attrition has always been a crucial concern for a company. Attrition means a loss to the company in terms of cost invested in training an employee. There are a few companies which were forced to close due to high level of attrition. To minimize attrition several companies tries to analyze and understand several factors which migh lead to an employee to leave the company. \n",
    "The IBM HR Attrition Case Study is a dataset which aims to identify important factors that might be influential in determining an employee who might leave the company. You are hired by the company and your objective is to undestand the data and to identify the patterns in the data which will help HR team to take decisive actions to reduce the attrition rate.\n",
    "\n",
    "There are two given dataset, Company_Data.csv contains information of an employee related to the company and Personal_Data cotains personal information of an employee."
   ]
  },
  {
   "cell_type": "markdown",
   "metadata": {
    "id": "5-KPcjB_Ga2e"
   },
   "source": [
    "## Data Dictionary\n",
    "\n",
    "1. EmpId-              Employee ID\n",
    "2. AGE-                Employee Age\n",
    "3. EducationField-     Field of Education\n",
    "4. Gender        -     Employee Gender\n",
    "5. MaritalStatus -     Employee Marital Status\n",
    "6. DistanceFromHome-   Distance from home to work (in miles)\n",
    "7. BusinessTravel-     Frequency of business travel\n",
    "8. Department-         Department of the employee \n",
    "9. HourlyRate-         Hourly rate of an employee\n",
    "10. JobLevel-          Job Level of the employee. Higher job level means senior post\n",
    "11. JobRole-           Job Role of an employee\n",
    "12. JobSatisfaction-   Job Satisfaction level of  an employee\n",
    "13. MonthlyRate-       Montly rate of an employee\n",
    "14. NumCompaniesWorked-How many companies has the employee worked before\n",
    "15. OverTime-          Does the employee gets overtime\n",
    "16. PercentSalaryHike- Average percentage take for the employee\n",
    "17. TotalWorkingYears- Total Years of Experience of an employee\n",
    "18. WorkLifeBalance-   Work life balance of an employee (4 means highly satisfied)\n",
    "19. YearsAtCompany-    Years employee have worked in current company\n",
    "20. YearsInCurrentRole-Years employee have worked in current role\n",
    "21. TotalWorkingYears- Total Years of Experience of an employee\n",
    "22. YearsSinceLastPromotion-   Number of years since last promotion\n",
    "23. YearsWithCurrManager- Number of years with current manager\n",
    "24. Attrition-         Employee has left the company or not\n"
   ]
  },
  {
   "cell_type": "markdown",
   "metadata": {
    "id": "Ysp_JpphGa2g"
   },
   "source": [
    "### Change your Working Directory"
   ]
  },
  {
   "cell_type": "code",
   "execution_count": null,
   "metadata": {
    "id": "U48MRM81Ga2h"
   },
   "outputs": [],
   "source": []
  },
  {
   "cell_type": "markdown",
   "metadata": {
    "id": "ptQS746yGa2i"
   },
   "source": [
    "### Q1. Import all the necessary libraries (Numpy and Pandas)"
   ]
  },
  {
   "cell_type": "code",
   "execution_count": null,
   "metadata": {
    "ExecuteTime": {
     "end_time": "2020-06-17T09:01:58.211156Z",
     "start_time": "2020-06-17T09:01:57.581826Z"
    },
    "id": "rfwYuUSuGa2j"
   },
   "outputs": [],
   "source": []
  },
  {
   "cell_type": "markdown",
   "metadata": {
    "id": "y8ZK0uL8Ga2j"
   },
   "source": [
    "### Q2. Import both csv files (and name Company_Data as \"company\" and Personal_Data as \"personal\" )"
   ]
  },
  {
   "cell_type": "markdown",
   "metadata": {
    "id": "Sr9uk5b3Ga2k"
   },
   "source": [
    "Load the Data file into Python DataFrame using pandas read_csv method"
   ]
  },
  {
   "cell_type": "code",
   "execution_count": null,
   "metadata": {
    "ExecuteTime": {
     "end_time": "2020-06-17T09:02:00.636568Z",
     "start_time": "2020-06-17T09:01:59.854772Z"
    },
    "id": "V839xYgmGa2k"
   },
   "outputs": [],
   "source": []
  },
  {
   "cell_type": "markdown",
   "metadata": {
    "id": "47i4lx0YGa2l"
   },
   "source": [
    "### Q3.  View Top 10 rows of both the datasets"
   ]
  },
  {
   "cell_type": "markdown",
   "metadata": {
    "id": "8UKkS8lfGa2l"
   },
   "source": [
    "Hint:Head function is used to view the top records. The number of records to be viewed, needs to be  given in the parenthesis. Default value is 5."
   ]
  },
  {
   "cell_type": "code",
   "execution_count": null,
   "metadata": {
    "ExecuteTime": {
     "end_time": "2020-06-17T09:02:00.721300Z",
     "start_time": "2020-06-17T09:02:00.636568Z"
    },
    "id": "xu6Kv_lWGa2m"
   },
   "outputs": [],
   "source": []
  },
  {
   "cell_type": "code",
   "execution_count": null,
   "metadata": {
    "id": "XnHYpoJIGa2m"
   },
   "outputs": [],
   "source": []
  },
  {
   "cell_type": "markdown",
   "metadata": {
    "id": "FvLyzj7kGa2n"
   },
   "source": [
    "### Q4. Merge both datasets and name the merged dataset as df\n",
    "\n",
    "Hint:Merge the datasets using pd.merge() command- Use how=\"outer\" and on=\"EmpID\""
   ]
  },
  {
   "cell_type": "code",
   "execution_count": null,
   "metadata": {
    "id": "9IpGx6pNGa2n"
   },
   "outputs": [],
   "source": []
  },
  {
   "cell_type": "markdown",
   "metadata": {
    "id": "PyUGSO35Ga2n"
   },
   "source": [
    " ### Q5. View Last 5 records of combined dataframe \"df\"."
   ]
  },
  {
   "cell_type": "markdown",
   "metadata": {
    "id": "HhpxlrUlGa2o"
   },
   "source": [
    "Hint:Tail function is used to view the last records. The number of records to be viewed, needs to be given in the parenthesis.Default value is 5."
   ]
  },
  {
   "cell_type": "code",
   "execution_count": null,
   "metadata": {
    "ExecuteTime": {
     "end_time": "2020-06-17T09:02:01.036340Z",
     "start_time": "2020-06-17T09:02:00.723780Z"
    },
    "id": "rk907o44Ga2o",
    "scrolled": false
   },
   "outputs": [],
   "source": []
  },
  {
   "cell_type": "markdown",
   "metadata": {
    "id": "2ndE3NFlGa2o"
   },
   "source": [
    "### Q6. Display the shape/dimensions of dataset."
   ]
  },
  {
   "cell_type": "markdown",
   "metadata": {
    "id": "YUMojZWYGa2p"
   },
   "source": [
    "Displaying the shape of the Data Frame in which first value gives number of Rows and second value gives number of columns.\n",
    "\n",
    "Hint: Use \"shape\" function "
   ]
  },
  {
   "cell_type": "code",
   "execution_count": null,
   "metadata": {
    "ExecuteTime": {
     "end_time": "2020-06-17T09:02:01.148181Z",
     "start_time": "2020-06-17T09:02:01.038335Z"
    },
    "id": "Inft6zwGGa2p"
   },
   "outputs": [],
   "source": []
  },
  {
   "cell_type": "code",
   "execution_count": null,
   "metadata": {
    "ExecuteTime": {
     "end_time": "2020-06-17T09:02:01.272298Z",
     "start_time": "2020-06-17T09:02:01.151545Z"
    },
    "id": "WRwtVL2aGa2p"
   },
   "outputs": [],
   "source": []
  },
  {
   "cell_type": "markdown",
   "metadata": {
    "id": "NI6WQHHYGa2q"
   },
   "source": [
    "### Q7. Check for missing values. Display number of null values per column."
   ]
  },
  {
   "cell_type": "markdown",
   "metadata": {
    "id": "1h8Uug_BGa2q"
   },
   "source": [
    "Hint: use isnull() function"
   ]
  },
  {
   "cell_type": "code",
   "execution_count": null,
   "metadata": {
    "ExecuteTime": {
     "end_time": "2020-06-17T09:02:01.411471Z",
     "start_time": "2020-06-17T09:02:01.276431Z"
    },
    "id": "u6Arm8DHGa2q"
   },
   "outputs": [],
   "source": []
  },
  {
   "cell_type": "markdown",
   "metadata": {
    "id": "Rb8voQwPGa2q"
   },
   "source": [
    "There are missing values present in the \"Joblevel\" and \"WorklifeBalance\" variables of the dataset."
   ]
  },
  {
   "cell_type": "markdown",
   "metadata": {
    "id": "MRa5v7BCGa2r"
   },
   "source": [
    "### Q8.  Drop null values from \"df\" and check if there are any missing value left after dropping null values"
   ]
  },
  {
   "cell_type": "code",
   "execution_count": null,
   "metadata": {
    "ExecuteTime": {
     "end_time": "2020-06-17T09:02:01.522686Z",
     "start_time": "2020-06-17T09:02:01.416492Z"
    },
    "id": "qxwI1n9JGa2r"
   },
   "outputs": [],
   "source": []
  },
  {
   "cell_type": "code",
   "execution_count": null,
   "metadata": {
    "ExecuteTime": {
     "end_time": "2020-06-17T09:02:01.648197Z",
     "start_time": "2020-06-17T09:02:01.527381Z"
    },
    "id": "z7fLG1rNGa2r"
   },
   "outputs": [],
   "source": []
  },
  {
   "cell_type": "markdown",
   "metadata": {
    "id": "ywWkFv0vGa2s"
   },
   "source": [
    "### Q9. Check the datatype, number of non negative values and name of each variable in the dataset.\n",
    "\n",
    "Hint : Use info() function"
   ]
  },
  {
   "cell_type": "code",
   "execution_count": null,
   "metadata": {
    "id": "i0TXbqwSGa2s"
   },
   "outputs": [],
   "source": []
  },
  {
   "cell_type": "markdown",
   "metadata": {
    "id": "lO7D0-coGa2s"
   },
   "source": [
    "### Q10. Check the summary of the dataset\n",
    "Hint: To see the summary of a dataframe we will use describe function."
   ]
  },
  {
   "cell_type": "code",
   "execution_count": null,
   "metadata": {
    "id": "2fngYl9xGa2t"
   },
   "outputs": [],
   "source": []
  },
  {
   "cell_type": "markdown",
   "metadata": {
    "id": "BJBktqwjGa2t"
   },
   "source": [
    "### Q11. Drop  the variable EmpID from the dataframe df.\n",
    "To drop any variable, use drop() function."
   ]
  },
  {
   "cell_type": "code",
   "execution_count": null,
   "metadata": {
    "id": "jdPdoynMGa2t"
   },
   "outputs": [],
   "source": []
  },
  {
   "cell_type": "code",
   "execution_count": null,
   "metadata": {
    "id": "a1fAFpIUGa2u"
   },
   "outputs": [],
   "source": []
  },
  {
   "cell_type": "markdown",
   "metadata": {
    "id": "V44sVExjGa2u"
   },
   "source": [
    "### Q12. Check how many employees left the company from the given dataset\n",
    "Hint :Use value_counts() function"
   ]
  },
  {
   "cell_type": "code",
   "execution_count": null,
   "metadata": {
    "ExecuteTime": {
     "end_time": "2020-06-17T09:02:01.758220Z",
     "start_time": "2020-06-17T09:02:01.654480Z"
    },
    "id": "mhMrtR_OGa2v"
   },
   "outputs": [],
   "source": []
  },
  {
   "cell_type": "markdown",
   "metadata": {
    "id": "MSpCAOAGGa2v"
   },
   "source": []
  },
  {
   "cell_type": "code",
   "execution_count": null,
   "metadata": {
    "id": "_7tclhS1Ga2w"
   },
   "outputs": [],
   "source": []
  },
  {
   "cell_type": "markdown",
   "metadata": {
    "id": "US4AY9nRGa2x"
   },
   "source": []
  },
  {
   "cell_type": "markdown",
   "metadata": {
    "id": "1a8MNjT_Ga2x"
   },
   "source": [
    "### Q13. Create a subset \"df_new\" from the dataset \"df\" which contain data of all the employees who have attrited. Also check the shape of the new dataset"
   ]
  },
  {
   "cell_type": "code",
   "execution_count": null,
   "metadata": {
    "id": "4oN2nS1BGa2x"
   },
   "outputs": [],
   "source": []
  },
  {
   "cell_type": "code",
   "execution_count": null,
   "metadata": {
    "id": "oyR05ZrIGa2y"
   },
   "outputs": [],
   "source": []
  },
  {
   "cell_type": "markdown",
   "metadata": {
    "id": "A4tgYLteGa2y"
   },
   "source": [
    "### Q14. Create the top 5 rows and first 5 columns in a matrix format. Use \n",
    "\n",
    "---\n",
    "\n",
    "dataframe \"df\"\n",
    "\n",
    "Hint- use iloc function"
   ]
  },
  {
   "cell_type": "code",
   "execution_count": null,
   "metadata": {
    "id": "6wT6Z9u4Ga2y"
   },
   "outputs": [],
   "source": []
  },
  {
   "cell_type": "markdown",
   "metadata": {
    "id": "KQ_B85mnGa2z"
   },
   "source": [
    "### Q15.  Analyze the mean for all the variables for employees who have attrited and whose who have not.\n",
    "\n",
    "Hint: Use groupby() function"
   ]
  },
  {
   "cell_type": "code",
   "execution_count": null,
   "metadata": {
    "id": "jYtXdlDhGa2z"
   },
   "outputs": [],
   "source": []
  },
  {
   "cell_type": "markdown",
   "metadata": {
    "id": "hx014KOKGa2z"
   },
   "source": [
    "### Q16. Check the details of 5 employees who have spent maximum years in the company "
   ]
  },
  {
   "cell_type": "code",
   "execution_count": null,
   "metadata": {
    "id": "gkGmeAw2Ga20"
   },
   "outputs": [],
   "source": []
  },
  {
   "cell_type": "markdown",
   "metadata": {
    "id": "3GY-VuOoGa20"
   },
   "source": [
    "### Q17.  Find out the minimum \"Percentage Salary Hike\" the company has offered?\n"
   ]
  },
  {
   "cell_type": "code",
   "execution_count": null,
   "metadata": {
    "id": "hLlac1cRGa20"
   },
   "outputs": [],
   "source": []
  },
  {
   "cell_type": "markdown",
   "metadata": {
    "id": "DXre40jOGa21"
   },
   "source": [
    "### Q18. What is the maximum Total Working Years of an employee?"
   ]
  },
  {
   "cell_type": "code",
   "execution_count": null,
   "metadata": {
    "id": "nRidKmZkGa21"
   },
   "outputs": [],
   "source": []
  },
  {
   "cell_type": "markdown",
   "metadata": {
    "id": "POPc6BMrGa21"
   },
   "source": [
    "### Q19. What percentage of employees stay in the company given they have spend more than 7 years with the current manager?"
   ]
  },
  {
   "cell_type": "code",
   "execution_count": null,
   "metadata": {
    "id": "MoiQPvVCGa22"
   },
   "outputs": [],
   "source": []
  },
  {
   "cell_type": "markdown",
   "metadata": {
    "id": "nFTDsTrdGa22"
   },
   "source": [
    "### Q20.  What percentage of employees lives >10 miles from the company?"
   ]
  },
  {
   "cell_type": "code",
   "execution_count": null,
   "metadata": {
    "id": "i_3Fjle_Ga22"
   },
   "outputs": [],
   "source": []
  },
  {
   "cell_type": "markdown",
   "metadata": {
    "id": "Y6Q9bL3kGa23"
   },
   "source": [
    "### Q21. Create a copy of the dataset , remove the \"Attrition\" variable from the new dataset and check the shape of the dataset"
   ]
  },
  {
   "cell_type": "code",
   "execution_count": null,
   "metadata": {
    "id": "c8_VgScIGa24"
   },
   "outputs": [],
   "source": []
  },
  {
   "cell_type": "code",
   "execution_count": null,
   "metadata": {
    "id": "R9srA6dPGa25"
   },
   "outputs": [],
   "source": []
  },
  {
   "cell_type": "markdown",
   "metadata": {
    "id": "5EqWlcueGa25"
   },
   "source": [
    "# END"
   ]
  }
 ],
 "metadata": {
  "colab": {
   "collapsed_sections": [
    "PyUGSO35Ga2n",
    "2ndE3NFlGa2o",
    "NI6WQHHYGa2q",
    "MRa5v7BCGa2r",
    "ywWkFv0vGa2s",
    "lO7D0-coGa2s",
    "BJBktqwjGa2t",
    "V44sVExjGa2u",
    "1a8MNjT_Ga2x",
    "KQ_B85mnGa2z",
    "hx014KOKGa2z",
    "3GY-VuOoGa20",
    "DXre40jOGa21",
    "POPc6BMrGa21",
    "nFTDsTrdGa22",
    "Y6Q9bL3kGa23"
   ],
   "name": "Questions_HR Attrition.ipynb",
   "provenance": []
  },
  "kernelspec": {
   "display_name": "Python 3 (ipykernel)",
   "language": "python",
   "name": "python3"
  },
  "language_info": {
   "codemirror_mode": {
    "name": "ipython",
    "version": 3
   },
   "file_extension": ".py",
   "mimetype": "text/x-python",
   "name": "python",
   "nbconvert_exporter": "python",
   "pygments_lexer": "ipython3",
   "version": "3.9.13"
  },
  "toc": {
   "base_numbering": 1,
   "nav_menu": {},
   "number_sections": true,
   "sideBar": true,
   "skip_h1_title": false,
   "title_cell": "Table of Contents",
   "title_sidebar": "Contents",
   "toc_cell": false,
   "toc_position": {},
   "toc_section_display": true,
   "toc_window_display": false
  },
  "varInspector": {
   "cols": {
    "lenName": 16,
    "lenType": 16,
    "lenVar": 40
   },
   "kernels_config": {
    "python": {
     "delete_cmd_postfix": "",
     "delete_cmd_prefix": "del ",
     "library": "var_list.py",
     "varRefreshCmd": "print(var_dic_list())"
    },
    "r": {
     "delete_cmd_postfix": ") ",
     "delete_cmd_prefix": "rm(",
     "library": "var_list.r",
     "varRefreshCmd": "cat(var_dic_list()) "
    }
   },
   "types_to_exclude": [
    "module",
    "function",
    "builtin_function_or_method",
    "instance",
    "_Feature"
   ],
   "window_display": false
  }
 },
 "nbformat": 4,
 "nbformat_minor": 1
}
